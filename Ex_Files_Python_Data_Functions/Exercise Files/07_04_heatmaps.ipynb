{
 "cells": [
  {
   "cell_type": "code",
   "execution_count": 1,
   "metadata": {},
   "outputs": [],
   "source": [
    "# import relevant libraries\n",
    "import numpy as np\n",
    "import pandas as pd\n",
    "import matplotlib.pyplot as plt\n",
    "import seaborn as sns"
   ]
  },
  {
   "cell_type": "code",
   "execution_count": 2,
   "metadata": {},
   "outputs": [],
   "source": [
    "# create a variable that contains a numpy array representing the sales of a small business for each of 12 months\n",
    "data = np.random.randint(100, 301, size=(12,12))\n",
    "\n",
    "# create a variable that contains the list of months\n",
    "months = ['January', 'February', 'March', 'April', 'May', 'June', 'July',\n",
    "         'August', 'September', 'October', 'November', 'December']\n",
    "\n",
    "# create a variable that contains a list of the years from 2008 to 2019 inclusive\n",
    "years = [2008, 2009, 2010, 2011, 2012, 2013, 2014, 2015, 2016, 2017, 2018, 2019]\n",
    "\n",
    "# create a variable named sales that contains a dataframe \n",
    "# the dataframe consists of the sales of a small business across 12 months\n",
    "# there is an entry for each month of each year between 2008 and 2019 inclusive\n",
    "sales = pd.DataFrame(data, index=months, columns=years)"
   ]
  },
  {
   "cell_type": "code",
   "execution_count": 3,
   "metadata": {},
   "outputs": [
    {
     "data": {
      "text/html": [
       "<div>\n",
       "<style scoped>\n",
       "    .dataframe tbody tr th:only-of-type {\n",
       "        vertical-align: middle;\n",
       "    }\n",
       "\n",
       "    .dataframe tbody tr th {\n",
       "        vertical-align: top;\n",
       "    }\n",
       "\n",
       "    .dataframe thead th {\n",
       "        text-align: right;\n",
       "    }\n",
       "</style>\n",
       "<table border=\"1\" class=\"dataframe\">\n",
       "  <thead>\n",
       "    <tr style=\"text-align: right;\">\n",
       "      <th></th>\n",
       "      <th>2008</th>\n",
       "      <th>2009</th>\n",
       "      <th>2010</th>\n",
       "      <th>2011</th>\n",
       "      <th>2012</th>\n",
       "      <th>2013</th>\n",
       "      <th>2014</th>\n",
       "      <th>2015</th>\n",
       "      <th>2016</th>\n",
       "      <th>2017</th>\n",
       "      <th>2018</th>\n",
       "      <th>2019</th>\n",
       "    </tr>\n",
       "  </thead>\n",
       "  <tbody>\n",
       "    <tr>\n",
       "      <th>January</th>\n",
       "      <td>176</td>\n",
       "      <td>199</td>\n",
       "      <td>165</td>\n",
       "      <td>166</td>\n",
       "      <td>249</td>\n",
       "      <td>138</td>\n",
       "      <td>268</td>\n",
       "      <td>110</td>\n",
       "      <td>252</td>\n",
       "      <td>243</td>\n",
       "      <td>145</td>\n",
       "      <td>125</td>\n",
       "    </tr>\n",
       "    <tr>\n",
       "      <th>February</th>\n",
       "      <td>176</td>\n",
       "      <td>199</td>\n",
       "      <td>234</td>\n",
       "      <td>219</td>\n",
       "      <td>175</td>\n",
       "      <td>295</td>\n",
       "      <td>116</td>\n",
       "      <td>297</td>\n",
       "      <td>135</td>\n",
       "      <td>198</td>\n",
       "      <td>213</td>\n",
       "      <td>225</td>\n",
       "    </tr>\n",
       "    <tr>\n",
       "      <th>March</th>\n",
       "      <td>249</td>\n",
       "      <td>190</td>\n",
       "      <td>175</td>\n",
       "      <td>183</td>\n",
       "      <td>172</td>\n",
       "      <td>111</td>\n",
       "      <td>228</td>\n",
       "      <td>205</td>\n",
       "      <td>119</td>\n",
       "      <td>207</td>\n",
       "      <td>100</td>\n",
       "      <td>109</td>\n",
       "    </tr>\n",
       "    <tr>\n",
       "      <th>April</th>\n",
       "      <td>193</td>\n",
       "      <td>148</td>\n",
       "      <td>280</td>\n",
       "      <td>136</td>\n",
       "      <td>256</td>\n",
       "      <td>163</td>\n",
       "      <td>280</td>\n",
       "      <td>151</td>\n",
       "      <td>287</td>\n",
       "      <td>172</td>\n",
       "      <td>240</td>\n",
       "      <td>131</td>\n",
       "    </tr>\n",
       "    <tr>\n",
       "      <th>May</th>\n",
       "      <td>203</td>\n",
       "      <td>213</td>\n",
       "      <td>237</td>\n",
       "      <td>267</td>\n",
       "      <td>237</td>\n",
       "      <td>177</td>\n",
       "      <td>283</td>\n",
       "      <td>157</td>\n",
       "      <td>278</td>\n",
       "      <td>147</td>\n",
       "      <td>276</td>\n",
       "      <td>247</td>\n",
       "    </tr>\n",
       "  </tbody>\n",
       "</table>\n",
       "</div>"
      ],
      "text/plain": [
       "          2008  2009  2010  2011  2012  2013  2014  2015  2016  2017  2018  \\\n",
       "January    176   199   165   166   249   138   268   110   252   243   145   \n",
       "February   176   199   234   219   175   295   116   297   135   198   213   \n",
       "March      249   190   175   183   172   111   228   205   119   207   100   \n",
       "April      193   148   280   136   256   163   280   151   287   172   240   \n",
       "May        203   213   237   267   237   177   283   157   278   147   276   \n",
       "\n",
       "          2019  \n",
       "January    125  \n",
       "February   225  \n",
       "March      109  \n",
       "April      131  \n",
       "May        247  "
      ]
     },
     "execution_count": 3,
     "metadata": {},
     "output_type": "execute_result"
    }
   ],
   "source": [
    "# display first few rows of sales\n",
    "sales.head()"
   ]
  },
  {
   "cell_type": "code",
   "execution_count": 4,
   "metadata": {},
   "outputs": [
    {
     "data": {
      "image/png": "[encoded data removed]",
      "text/plain": [
       "<Figure size 432x288 with 2 Axes>"
      ]
     },
     "metadata": {
      "needs_background": "light"
     },
     "output_type": "display_data"
    }
   ],
   "source": [
    "# create a heatmap of sales\n",
    "sns.heatmap(sales);"
   ]
  },
  {
   "cell_type": "code",
   "execution_count": null,
   "metadata": {},
   "outputs": [],
   "source": []
  }
 ],
 "metadata": {
  "kernelspec": {
   "display_name": "Python 3",
   "language": "python",
   "name": "python3"
  },
  "language_info": {
   "codemirror_mode": {
    "name": "ipython",
    "version": 3
   },
   "file_extension": ".py",
   "mimetype": "text/x-python",
   "name": "python",
   "nbconvert_exporter": "python",
   "pygments_lexer": "ipython3",
   "version": "3.8.5"
  }
 },
 "nbformat": 4,
 "nbformat_minor": 4
}
